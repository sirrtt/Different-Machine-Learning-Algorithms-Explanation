{
  "cells": [
    {
      "cell_type": "markdown",
      "metadata": {
        "id": "iFzF4VO3cB80"
      },
      "source": [
        "# IMPORT LIB"
      ]
    },
    {
      "cell_type": "code",
      "execution_count": 1,
      "metadata": {
        "id": "3AUtAwyKaf1u"
      },
      "outputs": [],
      "source": [
        "import numpy as np\n",
        "import matplotlib.pyplot as plt\n",
        "from sklearn import neighbors, datasets\n",
        "from sklearn.model_selection import train_test_split\n",
        "from sklearn.metrics import accuracy_score, classification_report, confusion_matrix\n",
        "from sklearn.preprocessing import MinMaxScaler, LabelEncoder\n",
        "import pandas as pd"
      ]
    },
    {
      "cell_type": "markdown",
      "metadata": {},
      "source": [
        "# LOAD DATA"
      ]
    },
    {
      "cell_type": "code",
      "execution_count": 2,
      "metadata": {},
      "outputs": [
        {
          "name": "stdout",
          "output_type": "stream",
          "text": [
            "Number of classes: 3\n",
            "Number of datapoints: 150\n",
            "\n",
            "Samples from class 0:\n",
            " [[5.1 3.5 1.4 0.2]\n",
            " [4.9 3.  1.4 0.2]\n",
            " [4.7 3.2 1.3 0.2]\n",
            " [4.6 3.1 1.5 0.2]\n",
            " [5.  3.6 1.4 0.2]]\n",
            "\n",
            "Samples from class 1:\n",
            " [[7.  3.2 4.7 1.4]\n",
            " [6.4 3.2 4.5 1.5]\n",
            " [6.9 3.1 4.9 1.5]\n",
            " [5.5 2.3 4.  1.3]\n",
            " [6.5 2.8 4.6 1.5]]\n",
            "\n",
            "Samples from class 2:\n",
            " [[6.3 3.3 6.  2.5]\n",
            " [5.8 2.7 5.1 1.9]\n",
            " [7.1 3.  5.9 2.1]\n",
            " [6.3 2.9 5.6 1.8]\n",
            " [6.5 3.  5.8 2.2]]\n"
          ]
        }
      ],
      "source": [
        "iris = datasets.load_iris()\n",
        "iris_X = iris.data\n",
        "iris_Y = iris.target\n",
        "print('Number of classes: %d' %len(np.unique(iris_Y)))\n",
        "print('Number of datapoints: %d' %len(iris_Y))\n",
        "\n",
        "\n",
        "X0 = iris_X[iris_Y == 0,:]\n",
        "print ('\\nSamples from class 0:\\n', X0[:5,:])\n",
        "\n",
        "X1 = iris_X[iris_Y == 1,:]\n",
        "print ('\\nSamples from class 1:\\n', X1[:5,:])\n",
        "\n",
        "X2 = iris_X[iris_Y == 2,:]\n",
        "print('\\nSamples from class 2:\\n', X2[:5,:])"
      ]
    },
    {
      "cell_type": "markdown",
      "metadata": {},
      "source": [
        "# Split training and test"
      ]
    },
    {
      "cell_type": "code",
      "execution_count": 3,
      "metadata": {},
      "outputs": [
        {
          "name": "stdout",
          "output_type": "stream",
          "text": [
            "Training size: 100\n",
            "Test size: 50\n",
            "[1 2 1 1 2 2 2 2 1 2 1 0 2 1 1 1 1 2 0 0 2 1 0 0 1 0 2 1 0 1 2 1 0 2 2 2 2\n",
            " 0 0 2 2 0 2 0 2 2 0 0 2 0 0 0 1 2 2 0 0 0 1 1 0 0 1 0 2 1 2 1 0 2 0 2 0 0\n",
            " 2 0 2 1 1 1 2 2 1 1 0 1 2 2 0 1 1 1 1 0 0 0 2 1 2 0]\n"
          ]
        }
      ],
      "source": [
        "X_train, X_test, Y_train, Y_test = train_test_split(iris_X, iris_Y, test_size=50,random_state=0)\n",
        "print('Training size: %d' %len(Y_train))\n",
        "print('Test size: %d' %len(Y_test))\n",
        "print(Y_train)"
      ]
    },
    {
      "cell_type": "markdown",
      "metadata": {},
      "source": [
        "# Min Max normalization"
      ]
    },
    {
      "cell_type": "code",
      "execution_count": 4,
      "metadata": {},
      "outputs": [],
      "source": [
        "scaler = MinMaxScaler()\n",
        "scaler.fit(X_train)\n",
        "X_train_norm = scaler.transform(X_train)\n",
        "X_test_norm = scaler.transform(X_test)"
      ]
    },
    {
      "cell_type": "markdown",
      "metadata": {},
      "source": [
        "# Evaluation method"
      ]
    },
    {
      "cell_type": "code",
      "execution_count": 9,
      "metadata": {},
      "outputs": [
        {
          "name": "stdout",
          "output_type": "stream",
          "text": [
            "Print results for 20 test data points: \n",
            "Predicted labels:  [2 1 0 0 2 0 0 1 1 0 2 1 0 2 2 1 0 2 1 1]\n",
            "Ground truth:  [2 1 0 0 2 0 0 1 1 0 2 1 0 2 2 1 0 2 1 1]\n"
          ]
        }
      ],
      "source": [
        "knn = neighbors.KNeighborsClassifier(n_neighbors = 5, p = 2, weights = 'distance')\n",
        "knn.fit(X_train, Y_train)\n",
        "Y_prediction = knn.predict(X_test)\n",
        "\n",
        "print('Print results for 20 test data points: ')\n",
        "print('Predicted labels: ', Y_prediction[20:40])\n",
        "print('Ground truth: ', Y_prediction[20:40])\n",
        "\n",
        "\n",
        "\n",
        "\n",
        "#print('Accuracy of 10NN with major voting: %.2f %%' %(100*accuracy_score(Y_test, Y_prediction)))"
      ]
    },
    {
      "cell_type": "markdown",
      "metadata": {},
      "source": [
        "# Tìm giá trị tốt nhất cho K"
      ]
    },
    {
      "cell_type": "code",
      "execution_count": 10,
      "metadata": {},
      "outputs": [
        {
          "name": "stdout",
          "output_type": "stream",
          "text": [
            "[96.0]\n",
            "[96.0, 96.0]\n",
            "[96.0, 96.0, 96.0]\n",
            "[96.0, 96.0, 96.0, 96.0]\n",
            "[96.0, 96.0, 96.0, 96.0, 98.0]\n",
            "[96.0, 96.0, 96.0, 96.0, 98.0, 98.0]\n",
            "[96.0, 96.0, 96.0, 96.0, 98.0, 98.0, 98.0]\n",
            "[96.0, 96.0, 96.0, 96.0, 98.0, 98.0, 98.0, 98.0]\n",
            "[96.0, 96.0, 96.0, 96.0, 98.0, 98.0, 98.0, 98.0, 98.0]\n",
            "[96.0, 96.0, 96.0, 96.0, 98.0, 98.0, 98.0, 98.0, 98.0, 98.0]\n",
            "[96.0, 96.0, 96.0, 96.0, 98.0, 98.0, 98.0, 98.0, 98.0, 98.0, 98.0]\n",
            "[96.0, 96.0, 96.0, 96.0, 98.0, 98.0, 98.0, 98.0, 98.0, 98.0, 98.0, 98.0]\n",
            "[96.0, 96.0, 96.0, 96.0, 98.0, 98.0, 98.0, 98.0, 98.0, 98.0, 98.0, 98.0, 98.0]\n",
            "[96.0, 96.0, 96.0, 96.0, 98.0, 98.0, 98.0, 98.0, 98.0, 98.0, 98.0, 98.0, 98.0, 98.0]\n",
            "[96.0, 96.0, 96.0, 96.0, 98.0, 98.0, 98.0, 98.0, 98.0, 98.0, 98.0, 98.0, 98.0, 98.0, 98.0]\n",
            "[96.0, 96.0, 96.0, 96.0, 98.0, 98.0, 98.0, 98.0, 98.0, 98.0, 98.0, 98.0, 98.0, 98.0, 98.0, 98.0]\n",
            "[96.0, 96.0, 96.0, 96.0, 98.0, 98.0, 98.0, 98.0, 98.0, 98.0, 98.0, 98.0, 98.0, 98.0, 98.0, 98.0, 98.0]\n",
            "[96.0, 96.0, 96.0, 96.0, 98.0, 98.0, 98.0, 98.0, 98.0, 98.0, 98.0, 98.0, 98.0, 98.0, 98.0, 98.0, 98.0, 98.0]\n",
            "[96.0, 96.0, 96.0, 96.0, 98.0, 98.0, 98.0, 98.0, 98.0, 98.0, 98.0, 98.0, 98.0, 98.0, 98.0, 98.0, 98.0, 98.0, 98.0]\n"
          ]
        },
        {
          "data": {
            "image/png": "[encoded data removed]",
            "text/plain": [
              "<Figure size 432x288 with 1 Axes>"
            ]
          },
          "metadata": {
            "needs_background": "light"
          },
          "output_type": "display_data"
        }
      ],
      "source": [
        "error_rate = []\n",
        "a = []\n",
        "for i in range(1,20):\n",
        "    knn = neighbors.KNeighborsClassifier(n_neighbors = i, p = 2, weights = 'distance')\n",
        "    knn.fit(X_train, Y_train)\n",
        "    Y_pred_i = knn.predict(X_test)\n",
        "    error_rate.append(100*accuracy_score(Y_test,Y_pred_i))\n",
        "    a.append(i)\n",
        "    \n",
        "\n",
        "    print(error_rate)\n",
        "    \n",
        "    #plot\n",
        "    plt.title('Error Rate vs K value')\n",
        "    plt.plot(a,error_rate)\n",
        "    plt.xlabel('Error Rate')\n",
        "    plt.ylabel('i') \n",
        "   "
      ]
    },
    {
      "cell_type": "markdown",
      "metadata": {},
      "source": [
        "Đánh trọng số cho các điểm lân cận"
      ]
    },
    {
      "cell_type": "code",
      "execution_count": 7,
      "metadata": {},
      "outputs": [
        {
          "name": "stdout",
          "output_type": "stream",
          "text": [
            "Accuracy of 10NN : 98.00 %\n"
          ]
        }
      ],
      "source": [
        "knn = neighbors.KNeighborsClassifier(n_neighbors = 5, p = 2, weights = 'distance')\n",
        "knn.fit(X_train, Y_train)\n",
        "Y_predict = knn.predict(X_test)\n",
        "\n",
        "print(\"Accuracy of 10NN : %.2f %%\" %(100*accuracy_score(Y_test, Y_predict)))"
      ]
    },
    {
      "cell_type": "code",
      "execution_count": 8,
      "metadata": {},
      "outputs": [
        {
          "name": "stdout",
          "output_type": "stream",
          "text": [
            "Confusion Matrix in KNN: \n",
            "[[16  0  0]\n",
            " [ 0 18  1]\n",
            " [ 0  1 14]]\n",
            "My classification using KNN is: \n",
            "              precision    recall  f1-score   support\n",
            "\n",
            "           0       1.00      1.00      1.00        16\n",
            "           1       0.95      0.95      0.95        19\n",
            "           2       0.93      0.93      0.93        15\n",
            "\n",
            "   micro avg       0.96      0.96      0.96        50\n",
            "   macro avg       0.96      0.96      0.96        50\n",
            "weighted avg       0.96      0.96      0.96        50\n",
            "\n"
          ]
        }
      ],
      "source": [
        "print(\"Confusion Matrix in KNN: \")\n",
        "print(confusion_matrix(Y_test,Y_prediction, labels=[0,1,2]))\n",
        "print(\"My classification using KNN is: \")\n",
        "print(classification_report(Y_test, Y_prediction))"
      ]
    }
  ],
  "metadata": {
    "colab": {
      "collapsed_sections": [
        "-j1f7lyIgRXe"
      ],
      "name": "ML.ipynb",
      "provenance": [],
      "toc_visible": true
    },
    "kernelspec": {
      "display_name": "Python 3",
      "name": "python3"
    },
    "language_info": {
      "codemirror_mode": {
        "name": "ipython",
        "version": 3
      },
      "file_extension": ".py",
      "mimetype": "text/x-python",
      "name": "python",
      "nbconvert_exporter": "python",
      "pygments_lexer": "ipython3",
      "version": "3.7.1"
    }
  },
  "nbformat": 4,
  "nbformat_minor": 0
}
