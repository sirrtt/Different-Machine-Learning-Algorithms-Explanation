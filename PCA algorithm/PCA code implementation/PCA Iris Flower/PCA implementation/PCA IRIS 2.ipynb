{
 "cells": [
  {
   "cell_type": "markdown",
   "id": "46146559",
   "metadata": {},
   "source": [
    "# Principle Component Analysis (PCA) for Data Visualization with Iris Dataset"
   ]
  },
  {
   "cell_type": "code",
   "execution_count": 1,
   "id": "94493731",
   "metadata": {},
   "outputs": [],
   "source": [
    "import pandas as pd\n",
    "import numpy as np\n",
    "\n",
    "import matplotlib.pyplot as plt\n",
    "from matplotlib.colors import ListedColormap\n",
    "%matplotlib inline\n",
    "\n",
    "from sklearn.model_selection import train_test_split\n",
    "from sklearn.linear_model import LogisticRegression\n",
    "from sklearn.linear_model import LinearRegression\n",
    "from sklearn.decomposition import PCA\n",
    "from sklearn.svm import SVC\n",
    "from sklearn.metrics import accuracy_score, classification_report, confusion_matrix, ConfusionMatrixDisplay\n",
    "\n",
    "from sklearn.preprocessing import StandardScaler\n",
    "from sklearn.preprocessing import LabelEncoder\n",
    "from sklearn.preprocessing import MinMaxScaler"
   ]
  },
  {
   "cell_type": "markdown",
   "id": "3b0b8966",
   "metadata": {},
   "source": [
    "## Load Iris Dataset "
   ]
  },
  {
   "cell_type": "code",
   "execution_count": 2,
   "id": "93b26848",
   "metadata": {},
   "outputs": [
    {
     "data": {
      "text/html": [
       "<div>\n",
       "<style scoped>\n",
       "    .dataframe tbody tr th:only-of-type {\n",
       "        vertical-align: middle;\n",
       "    }\n",
       "\n",
       "    .dataframe tbody tr th {\n",
       "        vertical-align: top;\n",
       "    }\n",
       "\n",
       "    .dataframe thead th {\n",
       "        text-align: right;\n",
       "    }\n",
       "</style>\n",
       "<table border=\"1\" class=\"dataframe\">\n",
       "  <thead>\n",
       "    <tr style=\"text-align: right;\">\n",
       "      <th></th>\n",
       "      <th>sepal_length</th>\n",
       "      <th>sepal_width</th>\n",
       "      <th>petal_length</th>\n",
       "      <th>petal_width</th>\n",
       "      <th>species</th>\n",
       "    </tr>\n",
       "  </thead>\n",
       "  <tbody>\n",
       "    <tr>\n",
       "      <th>0</th>\n",
       "      <td>5.1</td>\n",
       "      <td>3.5</td>\n",
       "      <td>1.4</td>\n",
       "      <td>0.2</td>\n",
       "      <td>Iris-setosa</td>\n",
       "    </tr>\n",
       "    <tr>\n",
       "      <th>1</th>\n",
       "      <td>4.9</td>\n",
       "      <td>3.0</td>\n",
       "      <td>1.4</td>\n",
       "      <td>0.2</td>\n",
       "      <td>Iris-setosa</td>\n",
       "    </tr>\n",
       "    <tr>\n",
       "      <th>2</th>\n",
       "      <td>4.7</td>\n",
       "      <td>3.2</td>\n",
       "      <td>1.3</td>\n",
       "      <td>0.2</td>\n",
       "      <td>Iris-setosa</td>\n",
       "    </tr>\n",
       "    <tr>\n",
       "      <th>3</th>\n",
       "      <td>4.6</td>\n",
       "      <td>3.1</td>\n",
       "      <td>1.5</td>\n",
       "      <td>0.2</td>\n",
       "      <td>Iris-setosa</td>\n",
       "    </tr>\n",
       "    <tr>\n",
       "      <th>4</th>\n",
       "      <td>5.0</td>\n",
       "      <td>3.6</td>\n",
       "      <td>1.4</td>\n",
       "      <td>0.2</td>\n",
       "      <td>Iris-setosa</td>\n",
       "    </tr>\n",
       "    <tr>\n",
       "      <th>...</th>\n",
       "      <td>...</td>\n",
       "      <td>...</td>\n",
       "      <td>...</td>\n",
       "      <td>...</td>\n",
       "      <td>...</td>\n",
       "    </tr>\n",
       "    <tr>\n",
       "      <th>145</th>\n",
       "      <td>6.7</td>\n",
       "      <td>3.0</td>\n",
       "      <td>5.2</td>\n",
       "      <td>2.3</td>\n",
       "      <td>Iris-virginica</td>\n",
       "    </tr>\n",
       "    <tr>\n",
       "      <th>146</th>\n",
       "      <td>6.3</td>\n",
       "      <td>2.5</td>\n",
       "      <td>5.0</td>\n",
       "      <td>1.9</td>\n",
       "      <td>Iris-virginica</td>\n",
       "    </tr>\n",
       "    <tr>\n",
       "      <th>147</th>\n",
       "      <td>6.5</td>\n",
       "      <td>3.0</td>\n",
       "      <td>5.2</td>\n",
       "      <td>2.0</td>\n",
       "      <td>Iris-virginica</td>\n",
       "    </tr>\n",
       "    <tr>\n",
       "      <th>148</th>\n",
       "      <td>6.2</td>\n",
       "      <td>3.4</td>\n",
       "      <td>5.4</td>\n",
       "      <td>2.3</td>\n",
       "      <td>Iris-virginica</td>\n",
       "    </tr>\n",
       "    <tr>\n",
       "      <th>149</th>\n",
       "      <td>5.9</td>\n",
       "      <td>3.0</td>\n",
       "      <td>5.1</td>\n",
       "      <td>1.8</td>\n",
       "      <td>Iris-virginica</td>\n",
       "    </tr>\n",
       "  </tbody>\n",
       "</table>\n",
       "<p>150 rows × 5 columns</p>\n",
       "</div>"
      ],
      "text/plain": [
       "     sepal_length  sepal_width  petal_length  petal_width         species\n",
       "0             5.1          3.5           1.4          0.2     Iris-setosa\n",
       "1             4.9          3.0           1.4          0.2     Iris-setosa\n",
       "2             4.7          3.2           1.3          0.2     Iris-setosa\n",
       "3             4.6          3.1           1.5          0.2     Iris-setosa\n",
       "4             5.0          3.6           1.4          0.2     Iris-setosa\n",
       "..            ...          ...           ...          ...             ...\n",
       "145           6.7          3.0           5.2          2.3  Iris-virginica\n",
       "146           6.3          2.5           5.0          1.9  Iris-virginica\n",
       "147           6.5          3.0           5.2          2.0  Iris-virginica\n",
       "148           6.2          3.4           5.4          2.3  Iris-virginica\n",
       "149           5.9          3.0           5.1          1.8  Iris-virginica\n",
       "\n",
       "[150 rows x 5 columns]"
      ]
     },
     "execution_count": 2,
     "metadata": {},
     "output_type": "execute_result"
    }
   ],
   "source": [
    "df_iris = pd.read_csv('IRIS.csv')\n",
    "df_iris"
   ]
  },
  {
   "cell_type": "code",
   "execution_count": 3,
   "id": "e799d076",
   "metadata": {},
   "outputs": [
    {
     "data": {
      "text/plain": [
       "array(['Iris-setosa', 'Iris-versicolor', 'Iris-virginica'], dtype=object)"
      ]
     },
     "execution_count": 3,
     "metadata": {},
     "output_type": "execute_result"
    }
   ],
   "source": [
    "#CHECK KIND OF SPECIES\n",
    "\n",
    "df_iris['species'].unique()"
   ]
  },
  {
   "cell_type": "markdown",
   "id": "783a666b",
   "metadata": {},
   "source": [
    "## Label encoding"
   ]
  },
  {
   "cell_type": "code",
   "execution_count": 4,
   "id": "8d08e53b",
   "metadata": {},
   "outputs": [
    {
     "data": {
      "text/html": [
       "<div>\n",
       "<style scoped>\n",
       "    .dataframe tbody tr th:only-of-type {\n",
       "        vertical-align: middle;\n",
       "    }\n",
       "\n",
       "    .dataframe tbody tr th {\n",
       "        vertical-align: top;\n",
       "    }\n",
       "\n",
       "    .dataframe thead th {\n",
       "        text-align: right;\n",
       "    }\n",
       "</style>\n",
       "<table border=\"1\" class=\"dataframe\">\n",
       "  <thead>\n",
       "    <tr style=\"text-align: right;\">\n",
       "      <th></th>\n",
       "      <th>sepal_length</th>\n",
       "      <th>sepal_width</th>\n",
       "      <th>petal_length</th>\n",
       "      <th>petal_width</th>\n",
       "      <th>species</th>\n",
       "    </tr>\n",
       "  </thead>\n",
       "  <tbody>\n",
       "    <tr>\n",
       "      <th>0</th>\n",
       "      <td>5.1</td>\n",
       "      <td>3.5</td>\n",
       "      <td>1.4</td>\n",
       "      <td>0.2</td>\n",
       "      <td>0</td>\n",
       "    </tr>\n",
       "    <tr>\n",
       "      <th>1</th>\n",
       "      <td>4.9</td>\n",
       "      <td>3.0</td>\n",
       "      <td>1.4</td>\n",
       "      <td>0.2</td>\n",
       "      <td>0</td>\n",
       "    </tr>\n",
       "    <tr>\n",
       "      <th>2</th>\n",
       "      <td>4.7</td>\n",
       "      <td>3.2</td>\n",
       "      <td>1.3</td>\n",
       "      <td>0.2</td>\n",
       "      <td>0</td>\n",
       "    </tr>\n",
       "    <tr>\n",
       "      <th>3</th>\n",
       "      <td>4.6</td>\n",
       "      <td>3.1</td>\n",
       "      <td>1.5</td>\n",
       "      <td>0.2</td>\n",
       "      <td>0</td>\n",
       "    </tr>\n",
       "    <tr>\n",
       "      <th>4</th>\n",
       "      <td>5.0</td>\n",
       "      <td>3.6</td>\n",
       "      <td>1.4</td>\n",
       "      <td>0.2</td>\n",
       "      <td>0</td>\n",
       "    </tr>\n",
       "    <tr>\n",
       "      <th>...</th>\n",
       "      <td>...</td>\n",
       "      <td>...</td>\n",
       "      <td>...</td>\n",
       "      <td>...</td>\n",
       "      <td>...</td>\n",
       "    </tr>\n",
       "    <tr>\n",
       "      <th>145</th>\n",
       "      <td>6.7</td>\n",
       "      <td>3.0</td>\n",
       "      <td>5.2</td>\n",
       "      <td>2.3</td>\n",
       "      <td>2</td>\n",
       "    </tr>\n",
       "    <tr>\n",
       "      <th>146</th>\n",
       "      <td>6.3</td>\n",
       "      <td>2.5</td>\n",
       "      <td>5.0</td>\n",
       "      <td>1.9</td>\n",
       "      <td>2</td>\n",
       "    </tr>\n",
       "    <tr>\n",
       "      <th>147</th>\n",
       "      <td>6.5</td>\n",
       "      <td>3.0</td>\n",
       "      <td>5.2</td>\n",
       "      <td>2.0</td>\n",
       "      <td>2</td>\n",
       "    </tr>\n",
       "    <tr>\n",
       "      <th>148</th>\n",
       "      <td>6.2</td>\n",
       "      <td>3.4</td>\n",
       "      <td>5.4</td>\n",
       "      <td>2.3</td>\n",
       "      <td>2</td>\n",
       "    </tr>\n",
       "    <tr>\n",
       "      <th>149</th>\n",
       "      <td>5.9</td>\n",
       "      <td>3.0</td>\n",
       "      <td>5.1</td>\n",
       "      <td>1.8</td>\n",
       "      <td>2</td>\n",
       "    </tr>\n",
       "  </tbody>\n",
       "</table>\n",
       "<p>150 rows × 5 columns</p>\n",
       "</div>"
      ],
      "text/plain": [
       "     sepal_length  sepal_width  petal_length  petal_width  species\n",
       "0             5.1          3.5           1.4          0.2        0\n",
       "1             4.9          3.0           1.4          0.2        0\n",
       "2             4.7          3.2           1.3          0.2        0\n",
       "3             4.6          3.1           1.5          0.2        0\n",
       "4             5.0          3.6           1.4          0.2        0\n",
       "..            ...          ...           ...          ...      ...\n",
       "145           6.7          3.0           5.2          2.3        2\n",
       "146           6.3          2.5           5.0          1.9        2\n",
       "147           6.5          3.0           5.2          2.0        2\n",
       "148           6.2          3.4           5.4          2.3        2\n",
       "149           5.9          3.0           5.1          1.8        2\n",
       "\n",
       "[150 rows x 5 columns]"
      ]
     },
     "execution_count": 4,
     "metadata": {},
     "output_type": "execute_result"
    }
   ],
   "source": [
    "#FROM SK.PREPROCESSING IMPORT LABELENCODER\n",
    "\n",
    "#encode the species\n",
    "species = ['Iris-setosa', 'Iris-versicolor', 'Iris-virginica']\n",
    "#species = [0, 1, 2], encode from names into numbers\n",
    "le = LabelEncoder()\n",
    "le.fit(species)\n",
    "df_iris['species'] = le.fit_transform(df_iris['species'].astype(str))\n",
    "\n",
    "df_iris"
   ]
  },
  {
   "cell_type": "markdown",
   "id": "b206a316",
   "metadata": {},
   "source": [
    "## Split columns"
   ]
  },
  {
   "cell_type": "code",
   "execution_count": 5,
   "id": "9b3c73fd",
   "metadata": {},
   "outputs": [
    {
     "data": {
      "text/html": [
       "<div>\n",
       "<style scoped>\n",
       "    .dataframe tbody tr th:only-of-type {\n",
       "        vertical-align: middle;\n",
       "    }\n",
       "\n",
       "    .dataframe tbody tr th {\n",
       "        vertical-align: top;\n",
       "    }\n",
       "\n",
       "    .dataframe thead th {\n",
       "        text-align: right;\n",
       "    }\n",
       "</style>\n",
       "<table border=\"1\" class=\"dataframe\">\n",
       "  <thead>\n",
       "    <tr style=\"text-align: right;\">\n",
       "      <th></th>\n",
       "      <th>sepal_length</th>\n",
       "      <th>sepal_width</th>\n",
       "      <th>petal_length</th>\n",
       "      <th>petal_width</th>\n",
       "    </tr>\n",
       "  </thead>\n",
       "  <tbody>\n",
       "    <tr>\n",
       "      <th>0</th>\n",
       "      <td>5.1</td>\n",
       "      <td>3.5</td>\n",
       "      <td>1.4</td>\n",
       "      <td>0.2</td>\n",
       "    </tr>\n",
       "    <tr>\n",
       "      <th>1</th>\n",
       "      <td>4.9</td>\n",
       "      <td>3.0</td>\n",
       "      <td>1.4</td>\n",
       "      <td>0.2</td>\n",
       "    </tr>\n",
       "    <tr>\n",
       "      <th>2</th>\n",
       "      <td>4.7</td>\n",
       "      <td>3.2</td>\n",
       "      <td>1.3</td>\n",
       "      <td>0.2</td>\n",
       "    </tr>\n",
       "    <tr>\n",
       "      <th>3</th>\n",
       "      <td>4.6</td>\n",
       "      <td>3.1</td>\n",
       "      <td>1.5</td>\n",
       "      <td>0.2</td>\n",
       "    </tr>\n",
       "    <tr>\n",
       "      <th>4</th>\n",
       "      <td>5.0</td>\n",
       "      <td>3.6</td>\n",
       "      <td>1.4</td>\n",
       "      <td>0.2</td>\n",
       "    </tr>\n",
       "    <tr>\n",
       "      <th>...</th>\n",
       "      <td>...</td>\n",
       "      <td>...</td>\n",
       "      <td>...</td>\n",
       "      <td>...</td>\n",
       "    </tr>\n",
       "    <tr>\n",
       "      <th>145</th>\n",
       "      <td>6.7</td>\n",
       "      <td>3.0</td>\n",
       "      <td>5.2</td>\n",
       "      <td>2.3</td>\n",
       "    </tr>\n",
       "    <tr>\n",
       "      <th>146</th>\n",
       "      <td>6.3</td>\n",
       "      <td>2.5</td>\n",
       "      <td>5.0</td>\n",
       "      <td>1.9</td>\n",
       "    </tr>\n",
       "    <tr>\n",
       "      <th>147</th>\n",
       "      <td>6.5</td>\n",
       "      <td>3.0</td>\n",
       "      <td>5.2</td>\n",
       "      <td>2.0</td>\n",
       "    </tr>\n",
       "    <tr>\n",
       "      <th>148</th>\n",
       "      <td>6.2</td>\n",
       "      <td>3.4</td>\n",
       "      <td>5.4</td>\n",
       "      <td>2.3</td>\n",
       "    </tr>\n",
       "    <tr>\n",
       "      <th>149</th>\n",
       "      <td>5.9</td>\n",
       "      <td>3.0</td>\n",
       "      <td>5.1</td>\n",
       "      <td>1.8</td>\n",
       "    </tr>\n",
       "  </tbody>\n",
       "</table>\n",
       "<p>150 rows × 4 columns</p>\n",
       "</div>"
      ],
      "text/plain": [
       "     sepal_length  sepal_width  petal_length  petal_width\n",
       "0             5.1          3.5           1.4          0.2\n",
       "1             4.9          3.0           1.4          0.2\n",
       "2             4.7          3.2           1.3          0.2\n",
       "3             4.6          3.1           1.5          0.2\n",
       "4             5.0          3.6           1.4          0.2\n",
       "..            ...          ...           ...          ...\n",
       "145           6.7          3.0           5.2          2.3\n",
       "146           6.3          2.5           5.0          1.9\n",
       "147           6.5          3.0           5.2          2.0\n",
       "148           6.2          3.4           5.4          2.3\n",
       "149           5.9          3.0           5.1          1.8\n",
       "\n",
       "[150 rows x 4 columns]"
      ]
     },
     "execution_count": 5,
     "metadata": {},
     "output_type": "execute_result"
    }
   ],
   "source": [
    "#FEATURES\n",
    "\n",
    "iris_X = df_iris.drop('species', axis = 1)\n",
    "iris_X\n",
    "#drop the last column aka num column into a single column"
   ]
  },
  {
   "cell_type": "code",
   "execution_count": 6,
   "id": "6f2de3a2",
   "metadata": {},
   "outputs": [
    {
     "data": {
      "text/plain": [
       "0      0\n",
       "1      0\n",
       "2      0\n",
       "3      0\n",
       "4      0\n",
       "      ..\n",
       "145    2\n",
       "146    2\n",
       "147    2\n",
       "148    2\n",
       "149    2\n",
       "Name: species, Length: 150, dtype: int32"
      ]
     },
     "execution_count": 6,
     "metadata": {},
     "output_type": "execute_result"
    }
   ],
   "source": [
    "#label, target, groundtruth\n",
    "\n",
    "iris_y = df_iris['species'] #column y is the last column in dataset with the name num\n",
    "iris_y"
   ]
  },
  {
   "cell_type": "markdown",
   "id": "12360dfe",
   "metadata": {},
   "source": [
    "## Split data"
   ]
  },
  {
   "cell_type": "code",
   "execution_count": 7,
   "id": "b779daf0",
   "metadata": {},
   "outputs": [
    {
     "name": "stdout",
     "output_type": "stream",
     "text": [
      "(120, 4)\n",
      "(30, 4)\n",
      "(120,)\n",
      "(30,)\n"
     ]
    }
   ],
   "source": [
    "#Split data into train set (80%), test set (20%)\n",
    "#optional\n",
    "\n",
    "X_train, X_test, y_train, y_test = train_test_split(iris_X, iris_y, test_size = 0.2, random_state = 0) #init parameters\n",
    "print(X_train.shape)\n",
    "print(X_test.shape) \n",
    "print(y_train.shape)\n",
    "print(y_test.shape)"
   ]
  },
  {
   "cell_type": "markdown",
   "id": "8d825e8a",
   "metadata": {},
   "source": [
    "## Standardize the Data"
   ]
  },
  {
   "cell_type": "code",
   "execution_count": 8,
   "id": "4de40511",
   "metadata": {
    "scrolled": false
   },
   "outputs": [
    {
     "data": {
      "text/plain": [
       "array([[ 0.61303014,  0.10850105,  0.94751783,  0.73603967],\n",
       "       [-0.56776627, -0.12400121,  0.38491447,  0.34808318],\n",
       "       [-0.80392556,  1.03851009, -1.30289562, -1.3330616 ],\n",
       "       [ 0.25879121, -0.12400121,  0.60995581,  0.73603967],\n",
       "       [ 0.61303014, -0.58900572,  1.00377816,  1.25331499],\n",
       "       [-0.80392556, -0.82150798,  0.04735245,  0.21876435],\n",
       "       [-0.21352735,  1.73601687, -1.19037495, -1.20374277],\n",
       "       [ 0.14071157, -0.82150798,  0.72247648,  0.47740201],\n",
       "       [ 0.02263193, -0.12400121,  0.21613346,  0.34808318],\n",
       "       [-0.09544771, -1.05401024,  0.10361279, -0.03987331],\n",
       "       [ 1.0853487 , -0.12400121,  0.94751783,  1.12399616],\n",
       "       [-1.39432376,  0.34100331, -1.41541629, -1.3330616 ],\n",
       "       [ 1.20342834,  0.10850105,  0.72247648,  1.38263382],\n",
       "       [-1.04008484,  1.03851009, -1.24663528, -0.81578628],\n",
       "       [-0.56776627,  1.50351461, -1.30289562, -1.3330616 ],\n",
       "       [-1.04008484, -2.4490238 , -0.1776889 , -0.29851096],\n",
       "       [ 0.73110978, -0.12400121,  0.94751783,  0.73603967],\n",
       "       [ 0.96726906,  0.57350557,  1.0600385 ,  1.64127148],\n",
       "       [ 0.14071157, -1.98401928,  0.66621615,  0.34808318],\n",
       "       [ 0.96726906, -1.2865125 ,  1.11629884,  0.73603967],\n",
       "       [-0.33160699, -1.2865125 ,  0.04735245, -0.16919214],\n",
       "       [ 2.14806547, -0.12400121,  1.28507985,  1.38263382],\n",
       "       [ 0.49495049,  0.57350557,  0.49743514,  0.47740201],\n",
       "       [-0.44968663, -1.51901476, -0.00890789, -0.16919214],\n",
       "       [ 0.49495049, -0.82150798,  0.60995581,  0.73603967],\n",
       "       [ 0.49495049, -0.58900572,  0.72247648,  0.34808318],\n",
       "       [-1.15816448, -1.2865125 ,  0.38491447,  0.60672084],\n",
       "       [ 0.49495049, -1.2865125 ,  0.66621615,  0.8653585 ],\n",
       "       [ 1.32150798,  0.34100331,  0.49743514,  0.21876435],\n",
       "       [ 0.73110978, -0.12400121,  0.77873682,  0.99467733],\n",
       "       [ 0.14071157,  0.80600783,  0.38491447,  0.47740201],\n",
       "       [-1.27624412,  0.10850105, -1.24663528, -1.3330616 ],\n",
       "       [-0.09544771, -0.82150798,  0.72247648,  0.8653585 ],\n",
       "       [-0.33160699, -0.82150798,  0.21613346,  0.08944552],\n",
       "       [-0.33160699, -0.35650346, -0.12142856,  0.08944552],\n",
       "       [-0.44968663, -1.2865125 ,  0.10361279,  0.08944552],\n",
       "       [ 0.25879121, -0.12400121,  0.4411748 ,  0.21876435],\n",
       "       [ 1.55766726,  0.34100331,  1.22881951,  0.73603967],\n",
       "       [-0.68584591,  1.50351461, -1.30289562, -1.3330616 ],\n",
       "       [-1.86664232, -0.12400121, -1.52793696, -1.46238043],\n",
       "       [ 0.61303014, -0.82150798,  0.83499716,  0.8653585 ],\n",
       "       [-0.21352735, -0.12400121,  0.21613346, -0.03987331],\n",
       "       [-0.56776627,  0.80600783, -1.19037495, -1.3330616 ],\n",
       "       [-0.21352735,  3.13103043, -1.30289562, -1.07442394],\n",
       "       [ 1.20342834,  0.10850105,  0.60995581,  0.34808318],\n",
       "       [-1.5124034 ,  0.10850105, -1.30289562, -1.3330616 ],\n",
       "       [ 0.02263193, -0.12400121,  0.72247648,  0.73603967],\n",
       "       [-0.9220052 , -1.2865125 , -0.45899058, -0.16919214],\n",
       "       [-1.5124034 ,  0.80600783, -1.35915595, -1.20374277],\n",
       "       [ 0.37687085, -1.98401928,  0.38491447,  0.34808318],\n",
       "       [ 1.55766726,  1.27101235,  1.28507985,  1.64127148],\n",
       "       [-0.21352735, -0.35650346,  0.21613346,  0.08944552],\n",
       "       [-1.27624412, -0.12400121, -1.35915595, -1.46238043],\n",
       "       [ 1.43958762, -0.12400121,  1.17255917,  1.12399616],\n",
       "       [ 1.20342834,  0.34100331,  1.0600385 ,  1.38263382],\n",
       "       [ 0.73110978, -0.12400121,  1.11629884,  1.25331499],\n",
       "       [ 0.61303014, -0.58900572,  1.00377816,  1.12399616],\n",
       "       [-0.9220052 ,  1.73601687, -1.24663528, -1.3330616 ],\n",
       "       [-1.27624412,  0.80600783, -1.24663528, -1.3330616 ],\n",
       "       [ 0.73110978,  0.34100331,  0.72247648,  0.99467733],\n",
       "       [ 0.96726906,  0.57350557,  1.0600385 ,  1.12399616],\n",
       "       [-1.63048304, -1.75151702, -1.41541629, -1.20374277],\n",
       "       [ 0.37687085,  0.80600783,  0.89125749,  1.38263382],\n",
       "       [-1.15816448, -0.12400121, -1.35915595, -1.3330616 ],\n",
       "       [-0.21352735, -1.2865125 ,  0.66621615,  0.99467733],\n",
       "       [ 1.20342834,  0.10850105,  0.89125749,  1.12399616],\n",
       "       [-1.74856268,  0.34100331, -1.41541629, -1.3330616 ],\n",
       "       [-1.04008484,  1.27101235, -1.35915595, -1.3330616 ],\n",
       "       [ 1.55766726, -0.12400121,  1.11629884,  0.47740201],\n",
       "       [-0.9220052 ,  1.03851009, -1.35915595, -1.20374277],\n",
       "       [-1.74856268, -0.12400121, -1.41541629, -1.3330616 ],\n",
       "       [-0.56776627,  1.96851913, -1.19037495, -1.07442394],\n",
       "       [-0.44968663, -1.75151702,  0.10361279,  0.08944552],\n",
       "       [ 1.0853487 ,  0.34100331,  1.17255917,  1.38263382],\n",
       "       [ 2.02998583, -0.12400121,  1.56638153,  1.12399616],\n",
       "       [-0.9220052 ,  1.03851009, -1.35915595, -1.3330616 ],\n",
       "       [-1.15816448,  0.10850105, -1.30289562, -1.46238043],\n",
       "       [-0.80392556,  0.80600783, -1.35915595, -1.3330616 ],\n",
       "       [-0.21352735, -0.58900572,  0.38491447,  0.08944552],\n",
       "       [ 0.84918942, -0.12400121,  0.32865413,  0.21876435],\n",
       "       [-1.04008484,  0.34100331, -1.47167663, -1.3330616 ],\n",
       "       [-0.9220052 ,  0.57350557, -1.19037495, -0.94510511],\n",
       "       [ 0.61303014, -0.35650346,  0.27239379,  0.08944552],\n",
       "       [-0.56776627,  0.80600783, -1.30289562, -1.07442394],\n",
       "       [ 2.14806547, -1.05401024,  1.73516253,  1.38263382],\n",
       "       [-1.15816448, -1.51901476, -0.29020957, -0.29851096],\n",
       "       [ 2.38422475,  1.73601687,  1.45386085,  0.99467733],\n",
       "       [ 0.96726906,  0.10850105,  0.32865413,  0.21876435],\n",
       "       [-0.80392556,  2.43352365, -1.30289562, -1.46238043],\n",
       "       [ 0.14071157, -0.12400121,  0.55369548,  0.73603967],\n",
       "       [-0.09544771,  2.20102139, -1.47167663, -1.3330616 ],\n",
       "       [ 2.14806547, -0.58900572,  1.62264186,  0.99467733],\n",
       "       [-0.9220052 ,  1.73601687, -1.30289562, -1.20374277],\n",
       "       [-1.39432376,  0.34100331, -1.24663528, -1.3330616 ],\n",
       "       [ 1.79382654, -0.58900572,  1.28507985,  0.8653585 ],\n",
       "       [-1.04008484,  0.57350557, -1.35915595, -1.3330616 ],\n",
       "       [ 0.49495049,  0.80600783,  1.00377816,  1.51195265],\n",
       "       [-0.21352735, -0.58900572,  0.15987312,  0.08944552],\n",
       "       [-0.09544771, -0.82150798,  0.04735245, -0.03987331],\n",
       "       [-0.21352735, -1.05401024, -0.1776889 , -0.29851096],\n",
       "       [ 0.61303014,  0.34100331,  0.83499716,  1.38263382],\n",
       "       [ 0.96726906, -0.12400121,  0.77873682,  1.38263382],\n",
       "       [ 0.49495049, -1.2865125 ,  0.60995581,  0.34808318],\n",
       "       [ 0.96726906, -0.12400121,  0.66621615,  0.60672084],\n",
       "       [-1.04008484, -0.12400121, -1.24663528, -1.3330616 ],\n",
       "       [-0.44968663, -1.51901476, -0.06516822, -0.29851096],\n",
       "       [ 0.96726906,  0.10850105,  1.00377816,  1.51195265],\n",
       "       [-0.09544771, -0.82150798,  0.72247648,  0.8653585 ],\n",
       "       [-0.9220052 ,  0.80600783, -1.30289562, -1.3330616 ],\n",
       "       [ 0.84918942, -0.35650346,  0.4411748 ,  0.08944552],\n",
       "       [-0.33160699, -0.12400121,  0.15987312,  0.08944552],\n",
       "       [ 0.02263193,  0.34100331,  0.55369548,  0.73603967],\n",
       "       [ 0.49495049, -1.75151702,  0.32865413,  0.08944552],\n",
       "       [-0.44968663,  1.03851009, -1.41541629, -1.3330616 ],\n",
       "       [-0.9220052 ,  1.50351461, -1.30289562, -1.07442394],\n",
       "       [-1.15816448,  0.10850105, -1.30289562, -1.46238043],\n",
       "       [ 0.49495049, -0.35650346,  1.00377816,  0.73603967],\n",
       "       [-0.09544771, -0.82150798,  0.15987312, -0.29851096],\n",
       "       [ 2.14806547,  1.73601687,  1.62264186,  1.25331499],\n",
       "       [-1.5124034 ,  0.34100331, -1.35915595, -1.3330616 ]])"
      ]
     },
     "execution_count": 8,
     "metadata": {},
     "output_type": "execute_result"
    }
   ],
   "source": [
    "sc = StandardScaler()\n",
    "X_train_std = sc.fit_transform(X_train)\n",
    "X_test_std = sc.transform(X_test)\n",
    "X_train_std"
   ]
  },
  {
   "cell_type": "code",
   "execution_count": 9,
   "id": "eefcfa0a",
   "metadata": {},
   "outputs": [],
   "source": [
    "def plot_decision_regions(X, y, classifier, resolution=0.1):\n",
    "    \n",
    "    # setup marker generator and color map\n",
    "    markers = ('s', 'x', 'o', '^', 'v')\n",
    "    colors = ('red', 'blue', 'lightgreen', 'gray', 'cyan')\n",
    "    cmap = ListedColormap(colors[:len(np.unique(y))])\n",
    "    \n",
    "    # plot the decision surface\n",
    "    x1_min, x1_max = X[:, 0].min() - 1, X[:, 0].max() + 1\n",
    "    x2_min, x2_max = X[:, 1].min() - 1, X[:, 1].max() + 1\n",
    "    xx1, xx2 = np.meshgrid(np.arange(x1_min, x1_max, resolution),\n",
    "                           np.arange(x2_min, x2_max, resolution))\n",
    "    Z = classifier.predict(np.array([xx1.ravel(), xx2.ravel()]).T)\n",
    "    Z = Z.reshape(xx1.shape)\n",
    "    plt.contourf(xx1, xx2, Z, alpha=0.4, cmap=cmap)\n",
    "    plt.xlim(xx1.min(), xx1.max())\n",
    "    plt.ylim(xx2.min(), xx2.max())\n",
    "    \n",
    "    # plot class samples\n",
    "    for idx, cl in enumerate(np.unique(y)):\n",
    "        plt.scatter(x=X[y == cl, 0],\n",
    "            y=X[y == cl, 1],\n",
    "            alpha=0.6,\n",
    "            c=cmap(idx),\n",
    "            edgecolor='black',\n",
    "            marker=markers[idx],\n",
    "            label=cl)"
   ]
  },
  {
   "cell_type": "markdown",
   "id": "c17df152",
   "metadata": {},
   "source": [
    "## Visualize 2D Projection with Logistic Regression"
   ]
  },
  {
   "cell_type": "code",
   "execution_count": 10,
   "id": "d2157157",
   "metadata": {},
   "outputs": [
    {
     "name": "stderr",
     "output_type": "stream",
     "text": [
      "*c* argument looks like a single numeric RGB or RGBA sequence, which should be avoided as value-mapping will have precedence in case its length matches with *x* & *y*.  Please use the *color* keyword-argument or provide a 2-D array with a single row if you intend to specify the same RGB or RGBA value for all points.\n",
      "*c* argument looks like a single numeric RGB or RGBA sequence, which should be avoided as value-mapping will have precedence in case its length matches with *x* & *y*.  Please use the *color* keyword-argument or provide a 2-D array with a single row if you intend to specify the same RGB or RGBA value for all points.\n",
      "*c* argument looks like a single numeric RGB or RGBA sequence, which should be avoided as value-mapping will have precedence in case its length matches with *x* & *y*.  Please use the *color* keyword-argument or provide a 2-D array with a single row if you intend to specify the same RGB or RGBA value for all points.\n"
     ]
    },
    {
     "data": {
      "image/png": "[encoded data removed]",
      "text/plain": [
       "<Figure size 432x288 with 1 Axes>"
      ]
     },
     "metadata": {
      "needs_background": "light"
     },
     "output_type": "display_data"
    }
   ],
   "source": [
    "pca = PCA(n_components=2)\n",
    "lr = LogisticRegression()\n",
    "X_train_pca = pca.fit_transform(X_train_std)\n",
    "X_test_pca = pca.transform(X_test_std)\n",
    "lr.fit(X_train_pca, y_train)\n",
    "plot_decision_regions(X_train_pca, y_train, classifier=lr)\n",
    "plt.xlabel('PC 1')\n",
    "plt.ylabel('PC 2')\n",
    "plt.legend(loc='lower left')\n",
    "plt.show()"
   ]
  },
  {
   "cell_type": "code",
   "execution_count": 11,
   "id": "8212dfbe",
   "metadata": {},
   "outputs": [
    {
     "name": "stderr",
     "output_type": "stream",
     "text": [
      "*c* argument looks like a single numeric RGB or RGBA sequence, which should be avoided as value-mapping will have precedence in case its length matches with *x* & *y*.  Please use the *color* keyword-argument or provide a 2-D array with a single row if you intend to specify the same RGB or RGBA value for all points.\n",
      "*c* argument looks like a single numeric RGB or RGBA sequence, which should be avoided as value-mapping will have precedence in case its length matches with *x* & *y*.  Please use the *color* keyword-argument or provide a 2-D array with a single row if you intend to specify the same RGB or RGBA value for all points.\n",
      "*c* argument looks like a single numeric RGB or RGBA sequence, which should be avoided as value-mapping will have precedence in case its length matches with *x* & *y*.  Please use the *color* keyword-argument or provide a 2-D array with a single row if you intend to specify the same RGB or RGBA value for all points.\n"
     ]
    },
    {
     "data": {
      "image/png": "[encoded data removed]",
      "text/plain": [
       "<Figure size 432x288 with 1 Axes>"
      ]
     },
     "metadata": {
      "needs_background": "light"
     },
     "output_type": "display_data"
    }
   ],
   "source": [
    "plot_decision_regions(X_test_pca, y_test, classifier=lr)\n",
    "plt.xlabel('PC1')\n",
    "plt.ylabel('PC2')\n",
    "plt.legend(loc='lower left')\n",
    "plt.show()"
   ]
  },
  {
   "cell_type": "markdown",
   "id": "205ecf3a",
   "metadata": {},
   "source": [
    "## Explained Variance Ratio"
   ]
  },
  {
   "cell_type": "code",
   "execution_count": 12,
   "id": "ad086eb1",
   "metadata": {},
   "outputs": [
    {
     "data": {
      "text/plain": [
       "array([0.72226528, 0.23974795])"
      ]
     },
     "execution_count": 12,
     "metadata": {},
     "output_type": "execute_result"
    }
   ],
   "source": [
    "pca.explained_variance_ratio_"
   ]
  },
  {
   "cell_type": "markdown",
   "id": "ae909799",
   "metadata": {},
   "source": [
    "## Logistic Regression"
   ]
  },
  {
   "cell_type": "code",
   "execution_count": 13,
   "id": "c3ea5c94",
   "metadata": {},
   "outputs": [],
   "source": [
    "model_lr = LogisticRegression(max_iter = 100, random_state = 0)\n",
    "model_lr = model_lr.fit(X_train_pca, y_train)"
   ]
  },
  {
   "cell_type": "code",
   "execution_count": 14,
   "id": "368c7d3b",
   "metadata": {},
   "outputs": [],
   "source": [
    "y_test_pred = model_lr.predict(X_test_pca)"
   ]
  },
  {
   "cell_type": "code",
   "execution_count": 15,
   "id": "96d3fece",
   "metadata": {},
   "outputs": [
    {
     "data": {
      "text/plain": [
       "array([2, 1, 0, 2, 0, 2, 0, 1, 1, 1, 2, 1, 1, 1, 1, 0, 1, 1, 0, 0, 2, 1,\n",
       "       0, 0, 2, 0, 0, 1, 1, 0])"
      ]
     },
     "execution_count": 15,
     "metadata": {},
     "output_type": "execute_result"
    }
   ],
   "source": [
    "np.array(y_test)"
   ]
  },
  {
   "cell_type": "code",
   "execution_count": 16,
   "id": "19c28af8",
   "metadata": {},
   "outputs": [
    {
     "name": "stdout",
     "output_type": "stream",
     "text": [
      "Test accuracy 1:  0.8666666666666667\n",
      "Test accuracy 2:  0.8666666666666667\n"
     ]
    }
   ],
   "source": [
    "print('Test accuracy 1: ', model_lr.score(X_test_pca, y_test))\n",
    "print('Test accuracy 2: ', accuracy_score(y_test, y_test_pred))"
   ]
  },
  {
   "cell_type": "code",
   "execution_count": 17,
   "id": "70ff6c86",
   "metadata": {},
   "outputs": [
    {
     "name": "stdout",
     "output_type": "stream",
     "text": [
      "Confusion_matrix using Logistic Regression is  : \n"
     ]
    },
    {
     "data": {
      "image/png": "[encoded data removed]",
      "text/plain": [
       "<Figure size 432x288 with 2 Axes>"
      ]
     },
     "metadata": {
      "needs_background": "light"
     },
     "output_type": "display_data"
    },
    {
     "name": "stdout",
     "output_type": "stream",
     "text": [
      "Classification_report using Logistic Regression is  : \n",
      "              precision    recall  f1-score   support\n",
      "\n",
      "           0       1.00      1.00      1.00        11\n",
      "           1       0.91      0.77      0.83        13\n",
      "           2       0.62      0.83      0.71         6\n",
      "\n",
      "    accuracy                           0.87        30\n",
      "   macro avg       0.84      0.87      0.85        30\n",
      "weighted avg       0.89      0.87      0.87        30\n",
      "\n"
     ]
    }
   ],
   "source": [
    "#CONFUSION MATRIX LOGISTIC REGRESSION\n",
    "\n",
    "print(\"Confusion_matrix using Logistic Regression is  : \")\n",
    "cm = confusion_matrix(y_test, y_test_pred)\n",
    "disp = ConfusionMatrixDisplay(confusion_matrix=cm, display_labels=model_lr.classes_)\n",
    "disp.plot()\n",
    "plt.show()\n",
    "print(\"Classification_report using Logistic Regression is  : \")\n",
    "print(classification_report(y_test, y_test_pred))"
   ]
  },
  {
   "cell_type": "markdown",
   "id": "ff10dc7e",
   "metadata": {},
   "source": [
    "## SVM"
   ]
  },
  {
   "cell_type": "code",
   "execution_count": 18,
   "id": "386f0046",
   "metadata": {
    "scrolled": false
   },
   "outputs": [
    {
     "data": {
      "text/plain": [
       "SVC(gamma='auto', kernel='linear', max_iter=1000)"
      ]
     },
     "execution_count": 18,
     "metadata": {},
     "output_type": "execute_result"
    }
   ],
   "source": [
    "# p = []\n",
    "\n",
    "# for i in range(1, 100):\n",
    "#     model_svm = SVC(C = i, kernel = 'rbf', gamma = 'auto', max_iter = 1000)\n",
    "#     model_svm = model_svm.fit(X_train_pca, y_train)\n",
    "#     y_test_pred_svm = model_svm.predict(X_test_pca)\n",
    "#     p.append(accuracy_score(y_test, y_test_pred_svm))\n",
    "\n",
    "# plt.plot(range(1, 100), p)\n",
    "model_svm = SVC(gamma='auto', kernel='linear', max_iter = 1000) #C = ???\n",
    "#model_svm = SVC(C=10, gamma='auto', kernel='poly', max_iter = 1000)\n",
    "#model_svm = SVC(C=10, gamma='auto', kernel='rbf', max_iter = 1000) #gaussian \n",
    "model_svm"
   ]
  },
  {
   "cell_type": "code",
   "execution_count": 19,
   "id": "27b282cb",
   "metadata": {},
   "outputs": [],
   "source": [
    "model_svm = model_svm.fit(X_train_pca, y_train)"
   ]
  },
  {
   "cell_type": "code",
   "execution_count": 20,
   "id": "88214ffb",
   "metadata": {},
   "outputs": [
    {
     "data": {
      "text/plain": [
       "array([2, 1, 0, 2, 0, 2, 0, 1, 2, 1, 2, 1, 1, 2, 1, 0, 1, 1, 0, 0, 2, 1,\n",
       "       0, 0, 2, 0, 0, 1, 1, 0])"
      ]
     },
     "execution_count": 20,
     "metadata": {},
     "output_type": "execute_result"
    }
   ],
   "source": [
    "y_test_pred_svm = model_svm.predict(X_test_pca)\n",
    "y_test_pred_svm"
   ]
  },
  {
   "cell_type": "code",
   "execution_count": 21,
   "id": "c170480a",
   "metadata": {},
   "outputs": [
    {
     "data": {
      "text/plain": [
       "array([2, 1, 0, 2, 0, 2, 0, 1, 1, 1, 2, 1, 1, 1, 1, 0, 1, 1, 0, 0, 2, 1,\n",
       "       0, 0, 2, 0, 0, 1, 1, 0])"
      ]
     },
     "execution_count": 21,
     "metadata": {},
     "output_type": "execute_result"
    }
   ],
   "source": [
    "np.array(y_test)"
   ]
  },
  {
   "cell_type": "code",
   "execution_count": 22,
   "id": "391822b0",
   "metadata": {},
   "outputs": [
    {
     "name": "stdout",
     "output_type": "stream",
     "text": [
      "Test accuracy 1:  0.9333333333333333\n",
      "Test accuracy 2:  0.9333333333333333\n"
     ]
    }
   ],
   "source": [
    "print(\"Test accuracy 1: \", model_svm.score(X_test_pca, y_test))\n",
    "print(\"Test accuracy 2: \", accuracy_score(y_test, y_test_pred_svm))"
   ]
  },
  {
   "cell_type": "code",
   "execution_count": 23,
   "id": "ebf098fc",
   "metadata": {},
   "outputs": [
    {
     "data": {
      "text/plain": [
       "{'0': {'precision': 1.0, 'recall': 1.0, 'f1-score': 1.0, 'support': 11},\n",
       " '1': {'precision': 1.0,\n",
       "  'recall': 0.8461538461538461,\n",
       "  'f1-score': 0.9166666666666666,\n",
       "  'support': 13},\n",
       " '2': {'precision': 0.75,\n",
       "  'recall': 1.0,\n",
       "  'f1-score': 0.8571428571428571,\n",
       "  'support': 6},\n",
       " 'accuracy': 0.9333333333333333,\n",
       " 'macro avg': {'precision': 0.9166666666666666,\n",
       "  'recall': 0.9487179487179488,\n",
       "  'f1-score': 0.9246031746031745,\n",
       "  'support': 30},\n",
       " 'weighted avg': {'precision': 0.95,\n",
       "  'recall': 0.9333333333333333,\n",
       "  'f1-score': 0.9353174603174602,\n",
       "  'support': 30}}"
      ]
     },
     "execution_count": 23,
     "metadata": {},
     "output_type": "execute_result"
    }
   ],
   "source": [
    "cp = classification_report(y_test, y_test_pred_svm, output_dict=True)\n",
    "cp"
   ]
  },
  {
   "cell_type": "code",
   "execution_count": 24,
   "id": "e8662889",
   "metadata": {
    "scrolled": false
   },
   "outputs": [
    {
     "name": "stdout",
     "output_type": "stream",
     "text": [
      "Confusion_matrix using SVM is  : \n"
     ]
    },
    {
     "data": {
      "image/png": "[encoded data removed]",
      "text/plain": [
       "<Figure size 432x288 with 2 Axes>"
      ]
     },
     "metadata": {
      "needs_background": "light"
     },
     "output_type": "display_data"
    },
    {
     "name": "stdout",
     "output_type": "stream",
     "text": [
      "Classification_report using SVM is  : \n",
      "              precision    recall  f1-score   support\n",
      "\n",
      "           0       1.00      1.00      1.00        11\n",
      "           1       0.91      0.77      0.83        13\n",
      "           2       0.62      0.83      0.71         6\n",
      "\n",
      "    accuracy                           0.87        30\n",
      "   macro avg       0.84      0.87      0.85        30\n",
      "weighted avg       0.89      0.87      0.87        30\n",
      "\n"
     ]
    }
   ],
   "source": [
    "#CONFUSION MATRIX SVM\n",
    "\n",
    "print(\"Confusion_matrix using SVM is  : \")\n",
    "cm = confusion_matrix(y_test, y_test_pred)\n",
    "disp = ConfusionMatrixDisplay(confusion_matrix=cm, display_labels=model_svm.classes_)\n",
    "disp.plot()\n",
    "plt.show()\n",
    "print(\"Classification_report using SVM is  : \")\n",
    "print(classification_report(y_test, y_test_pred))"
   ]
  }
 ],
 "metadata": {
  "kernelspec": {
   "display_name": "Python 3",
   "language": "python",
   "name": "python3"
  },
  "language_info": {
   "codemirror_mode": {
    "name": "ipython",
    "version": 3
   },
   "file_extension": ".py",
   "mimetype": "text/x-python",
   "name": "python",
   "nbconvert_exporter": "python",
   "pygments_lexer": "ipython3",
   "version": "3.8.8"
  }
 },
 "nbformat": 4,
 "nbformat_minor": 5
}
